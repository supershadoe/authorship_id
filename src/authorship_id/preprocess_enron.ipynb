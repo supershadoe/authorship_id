{
 "cells": [
  {
   "cell_type": "code",
   "execution_count": 1,
   "id": "0e89e7a0-039e-432e-8066-777de9b5e62b",
   "metadata": {},
   "outputs": [],
   "source": [
    "import pickle\n",
    "from pathlib import Path\n",
    "from IPython.display import display\n",
    "\n",
    "import numpy as np\n",
    "import pandas as pd\n",
    "from pandarallel import pandarallel\n",
    "from sklearn.decomposition import TruncatedSVD\n",
    "from sklearn.discriminant_analysis import LinearDiscriminantAnalysis\n",
    "from sklearn.model_selection import train_test_split\n",
    "from sklearn.pipeline import Pipeline\n",
    "\n",
    "from authorship_id.utils import preprocessing, setup_nltk"
   ]
  },
  {
   "cell_type": "code",
   "execution_count": 2,
   "id": "d86f83c5-2c2e-46a8-afb6-245ccc9862b8",
   "metadata": {},
   "outputs": [],
   "source": [
    "def parse_row(r: pd.Series):\n",
    "    import email\n",
    "    from authorship_id.utils import pos_tag_text\n",
    "    msg = email.message_from_string(r[\"message\"])\n",
    "    r.drop([\"message\", \"file\"], inplace=True)\n",
    "    r[\"label\"] = msg[\"from\"]\n",
    "    r[\"message\"] = msg.get_payload()\n",
    "    r[\"pos_tags\"] = pos_tag_text(r[\"message\"])\n",
    "    return r"
   ]
  },
  {
   "cell_type": "code",
   "execution_count": 3,
   "id": "89b25113-a778-4272-9e27-826717ff8b84",
   "metadata": {},
   "outputs": [
    {
     "name": "stdout",
     "output_type": "stream",
     "text": [
      "INFO: Pandarallel will run on 8 workers.\n",
      "INFO: Pandarallel will use standard multiprocessing data transfer (pipe) to transfer data between the main process and workers.\n",
      "\n",
      "WARNING: You are on Windows. If you detect any issue with pandarallel, be sure you checked out the Troubleshooting page:\n",
      "https://nalepae.github.io/pandarallel/troubleshooting/\n"
     ]
    },
    {
     "name": "stderr",
     "output_type": "stream",
     "text": [
      "[nltk_data] Downloading package punkt to\n",
      "[nltk_data]     C:\\Users\\user\\AppData\\Roaming\\nltk_data...\n",
      "[nltk_data]   Package punkt is already up-to-date!\n",
      "[nltk_data] Downloading package punkt_tab to\n",
      "[nltk_data]     C:\\Users\\user\\AppData\\Roaming\\nltk_data...\n",
      "[nltk_data]   Package punkt_tab is already up-to-date!\n",
      "[nltk_data] Downloading package averaged_perceptron_tagger to\n",
      "[nltk_data]     C:\\Users\\user\\AppData\\Roaming\\nltk_data...\n",
      "[nltk_data]   Package averaged_perceptron_tagger is already up-to-\n",
      "[nltk_data]       date!\n",
      "[nltk_data] Downloading package averaged_perceptron_tagger_eng to\n",
      "[nltk_data]     C:\\Users\\user\\AppData\\Roaming\\nltk_data...\n",
      "[nltk_data]   Package averaged_perceptron_tagger_eng is already up-to-\n",
      "[nltk_data]       date!\n"
     ]
    }
   ],
   "source": [
    "pandarallel.initialize(progress_bar=True)\n",
    "setup_nltk()"
   ]
  },
  {
   "cell_type": "code",
   "execution_count": 4,
   "id": "c045c8ce-902d-425e-9776-df922dada051",
   "metadata": {},
   "outputs": [
    {
     "data": {
      "text/html": [
       "<div>\n",
       "<style scoped>\n",
       "    .dataframe tbody tr th:only-of-type {\n",
       "        vertical-align: middle;\n",
       "    }\n",
       "\n",
       "    .dataframe tbody tr th {\n",
       "        vertical-align: top;\n",
       "    }\n",
       "\n",
       "    .dataframe thead th {\n",
       "        text-align: right;\n",
       "    }\n",
       "</style>\n",
       "<table border=\"1\" class=\"dataframe\">\n",
       "  <thead>\n",
       "    <tr style=\"text-align: right;\">\n",
       "      <th></th>\n",
       "      <th>file</th>\n",
       "      <th>message</th>\n",
       "    </tr>\n",
       "  </thead>\n",
       "  <tbody>\n",
       "    <tr>\n",
       "      <th>0</th>\n",
       "      <td>allen-p/_sent_mail/1.</td>\n",
       "      <td>Message-ID: &lt;18782981.1075855378110.JavaMail.e...</td>\n",
       "    </tr>\n",
       "    <tr>\n",
       "      <th>1</th>\n",
       "      <td>allen-p/_sent_mail/10.</td>\n",
       "      <td>Message-ID: &lt;15464986.1075855378456.JavaMail.e...</td>\n",
       "    </tr>\n",
       "    <tr>\n",
       "      <th>2</th>\n",
       "      <td>allen-p/_sent_mail/100.</td>\n",
       "      <td>Message-ID: &lt;24216240.1075855687451.JavaMail.e...</td>\n",
       "    </tr>\n",
       "    <tr>\n",
       "      <th>3</th>\n",
       "      <td>allen-p/_sent_mail/1000.</td>\n",
       "      <td>Message-ID: &lt;13505866.1075863688222.JavaMail.e...</td>\n",
       "    </tr>\n",
       "    <tr>\n",
       "      <th>4</th>\n",
       "      <td>allen-p/_sent_mail/1001.</td>\n",
       "      <td>Message-ID: &lt;30922949.1075863688243.JavaMail.e...</td>\n",
       "    </tr>\n",
       "  </tbody>\n",
       "</table>\n",
       "</div>"
      ],
      "text/plain": [
       "                       file                                            message\n",
       "0     allen-p/_sent_mail/1.  Message-ID: <18782981.1075855378110.JavaMail.e...\n",
       "1    allen-p/_sent_mail/10.  Message-ID: <15464986.1075855378456.JavaMail.e...\n",
       "2   allen-p/_sent_mail/100.  Message-ID: <24216240.1075855687451.JavaMail.e...\n",
       "3  allen-p/_sent_mail/1000.  Message-ID: <13505866.1075863688222.JavaMail.e...\n",
       "4  allen-p/_sent_mail/1001.  Message-ID: <30922949.1075863688243.JavaMail.e..."
      ]
     },
     "metadata": {},
     "output_type": "display_data"
    }
   ],
   "source": [
    "dataset_dir = Path(\"../../enron_dataset\")\n",
    "df = pd.read_csv(dataset_dir / \"emails.csv\")\n",
    "display(df.head())"
   ]
  },
  {
   "cell_type": "code",
   "execution_count": 5,
   "id": "70a30b1e-a533-40b3-9492-dfa4ad312304",
   "metadata": {},
   "outputs": [
    {
     "name": "stdout",
     "output_type": "stream",
     "text": [
      "Message-ID: <18782981.1075855378110.JavaMail.evans@thyme>\n",
      "Date: Mon, 14 May 2001 16:39:00 -0700 (PDT)\n",
      "From: phillip.allen@enron.com\n",
      "To: tim.belden@enron.com\n",
      "Subject: \n",
      "Mime-Version: 1.0\n",
      "Content-Type: text/plain; charset=us-ascii\n",
      "Content-Transfer-Encoding: 7bit\n",
      "X-From: Phillip K Allen\n",
      "X-To: Tim Belden <Tim Belden/Enron@EnronXGate>\n",
      "X-cc: \n",
      "X-bcc: \n",
      "X-Folder: \\Phillip_Allen_Jan2002_1\\Allen, Phillip K.\\'Sent Mail\n",
      "X-Origin: Allen-P\n",
      "X-FileName: pallen (Non-Privileged).pst\n",
      "\n",
      "Here is our forecast\n",
      "\n",
      " \n"
     ]
    }
   ],
   "source": [
    "print(df.iloc[0, 1])"
   ]
  },
  {
   "cell_type": "code",
   "execution_count": 6,
   "id": "12fc7efb-1ccb-4ac2-a842-eeb937b5812c",
   "metadata": {},
   "outputs": [
    {
     "data": {
      "application/vnd.jupyter.widget-view+json": {
       "model_id": "e24d9a4aeef0463997568057e607da2b",
       "version_major": 2,
       "version_minor": 0
      },
      "text/plain": [
       "VBox(children=(HBox(children=(IntProgress(value=0, description='0.00%', max=64676), Label(value='0 / 64676')))…"
      ]
     },
     "metadata": {},
     "output_type": "display_data"
    },
    {
     "data": {
      "text/html": [
       "<div>\n",
       "<style scoped>\n",
       "    .dataframe tbody tr th:only-of-type {\n",
       "        vertical-align: middle;\n",
       "    }\n",
       "\n",
       "    .dataframe tbody tr th {\n",
       "        vertical-align: top;\n",
       "    }\n",
       "\n",
       "    .dataframe thead th {\n",
       "        text-align: right;\n",
       "    }\n",
       "</style>\n",
       "<table border=\"1\" class=\"dataframe\">\n",
       "  <thead>\n",
       "    <tr style=\"text-align: right;\">\n",
       "      <th></th>\n",
       "      <th>label</th>\n",
       "      <th>message</th>\n",
       "      <th>pos_tags</th>\n",
       "    </tr>\n",
       "  </thead>\n",
       "  <tbody>\n",
       "    <tr>\n",
       "      <th>0</th>\n",
       "      <td>phillip.allen@enron.com</td>\n",
       "      <td>Here is our forecast\\n\\n</td>\n",
       "      <td>RB VBZ PRP$ NN</td>\n",
       "    </tr>\n",
       "    <tr>\n",
       "      <th>1</th>\n",
       "      <td>phillip.allen@enron.com</td>\n",
       "      <td>Traveling to have a business meeting takes the...</td>\n",
       "      <td>VBG TO VB DT NN NN VBZ DT NN IN IN DT NN . RB ...</td>\n",
       "    </tr>\n",
       "    <tr>\n",
       "      <th>2</th>\n",
       "      <td>phillip.allen@enron.com</td>\n",
       "      <td>test successful.  way to go!!!</td>\n",
       "      <td>NN JJ . NN TO VB . . .</td>\n",
       "    </tr>\n",
       "    <tr>\n",
       "      <th>3</th>\n",
       "      <td>phillip.allen@enron.com</td>\n",
       "      <td>Randy,\\n\\n Can you send me a schedule of the s...</td>\n",
       "      <td>NNP , NNP PRP VBP PRP DT NN IN DT JJ CC NN IN ...</td>\n",
       "    </tr>\n",
       "    <tr>\n",
       "      <th>4</th>\n",
       "      <td>phillip.allen@enron.com</td>\n",
       "      <td>Let's shoot for Tuesday at 11:45.</td>\n",
       "      <td>VB POS NN IN NNP IN CD .</td>\n",
       "    </tr>\n",
       "    <tr>\n",
       "      <th>...</th>\n",
       "      <td>...</td>\n",
       "      <td>...</td>\n",
       "      <td>...</td>\n",
       "    </tr>\n",
       "    <tr>\n",
       "      <th>517396</th>\n",
       "      <td>john.zufferli@enron.com</td>\n",
       "      <td>This is a trade with OIL-SPEC-HEDGE-NG (John L...</td>\n",
       "      <td>DT VBZ DT NN IN NNP ( NNP NNP POS NN ) CC NNP ...</td>\n",
       "    </tr>\n",
       "    <tr>\n",
       "      <th>517397</th>\n",
       "      <td>john.zufferli@enron.com</td>\n",
       "      <td>Some of my position is with the Alberta Term b...</td>\n",
       "      <td>DT IN PRP$ NN VBZ IN DT NNP NNP NN , PRP MD VB...</td>\n",
       "    </tr>\n",
       "    <tr>\n",
       "      <th>517398</th>\n",
       "      <td>john.zufferli@enron.com</td>\n",
       "      <td>2\\n\\n -----Original Message-----\\nFrom: \\tDouc...</td>\n",
       "      <td>CD : : JJ NN : : : IN : NNP , NNP NNP : NNP , ...</td>\n",
       "    </tr>\n",
       "    <tr>\n",
       "      <th>517399</th>\n",
       "      <td>john.zufferli@enron.com</td>\n",
       "      <td>Analyst\\t\\t\\t\\t\\tRank\\n\\nStephane Brodeur\\t\\t\\...</td>\n",
       "      <td>NNP NNP NNP NNP CD NNP NNP CD NNP NNP CD NNP N...</td>\n",
       "    </tr>\n",
       "    <tr>\n",
       "      <th>517400</th>\n",
       "      <td>john.zufferli@enron.com</td>\n",
       "      <td>i think the YMCA has a class that is for peopl...</td>\n",
       "      <td>NN VBP DT NNP VBZ DT NN WDT VBZ IN NNS VBG IN ...</td>\n",
       "    </tr>\n",
       "  </tbody>\n",
       "</table>\n",
       "<p>517401 rows × 3 columns</p>\n",
       "</div>"
      ],
      "text/plain": [
       "                          label  \\\n",
       "0       phillip.allen@enron.com   \n",
       "1       phillip.allen@enron.com   \n",
       "2       phillip.allen@enron.com   \n",
       "3       phillip.allen@enron.com   \n",
       "4       phillip.allen@enron.com   \n",
       "...                         ...   \n",
       "517396  john.zufferli@enron.com   \n",
       "517397  john.zufferli@enron.com   \n",
       "517398  john.zufferli@enron.com   \n",
       "517399  john.zufferli@enron.com   \n",
       "517400  john.zufferli@enron.com   \n",
       "\n",
       "                                                  message  \\\n",
       "0                               Here is our forecast\\n\\n    \n",
       "1       Traveling to have a business meeting takes the...   \n",
       "2                          test successful.  way to go!!!   \n",
       "3       Randy,\\n\\n Can you send me a schedule of the s...   \n",
       "4                     Let's shoot for Tuesday at 11:45.     \n",
       "...                                                   ...   \n",
       "517396  This is a trade with OIL-SPEC-HEDGE-NG (John L...   \n",
       "517397  Some of my position is with the Alberta Term b...   \n",
       "517398  2\\n\\n -----Original Message-----\\nFrom: \\tDouc...   \n",
       "517399  Analyst\\t\\t\\t\\t\\tRank\\n\\nStephane Brodeur\\t\\t\\...   \n",
       "517400  i think the YMCA has a class that is for peopl...   \n",
       "\n",
       "                                                 pos_tags  \n",
       "0                                          RB VBZ PRP$ NN  \n",
       "1       VBG TO VB DT NN NN VBZ DT NN IN IN DT NN . RB ...  \n",
       "2                                  NN JJ . NN TO VB . . .  \n",
       "3       NNP , NNP PRP VBP PRP DT NN IN DT JJ CC NN IN ...  \n",
       "4                                VB POS NN IN NNP IN CD .  \n",
       "...                                                   ...  \n",
       "517396  DT VBZ DT NN IN NNP ( NNP NNP POS NN ) CC NNP ...  \n",
       "517397  DT IN PRP$ NN VBZ IN DT NNP NNP NN , PRP MD VB...  \n",
       "517398  CD : : JJ NN : : : IN : NNP , NNP NNP : NNP , ...  \n",
       "517399  NNP NNP NNP NNP CD NNP NNP CD NNP NNP CD NNP N...  \n",
       "517400  NN VBP DT NNP VBZ DT NN WDT VBZ IN NNS VBG IN ...  \n",
       "\n",
       "[517401 rows x 3 columns]"
      ]
     },
     "metadata": {},
     "output_type": "display_data"
    },
    {
     "name": "stdout",
     "output_type": "stream",
     "text": [
      "CPU times: total: 40.8 s\n",
      "Wall time: 21min 59s\n"
     ]
    }
   ],
   "source": [
    "%%time\n",
    "df = df.parallel_apply(parse_row, axis=1)\n",
    "display(df)"
   ]
  },
  {
   "cell_type": "code",
   "execution_count": 7,
   "id": "2ff572ed-17a3-4206-b262-3606572eb998",
   "metadata": {},
   "outputs": [
    {
     "data": {
      "text/plain": [
       "['kay.mann@enron.com',\n",
       " 'vince.kaminski@enron.com',\n",
       " 'jeff.dasovich@enron.com',\n",
       " 'pete.davis@enron.com',\n",
       " 'chris.germany@enron.com',\n",
       " 'sara.shackleton@enron.com',\n",
       " 'tana.jones@enron.com',\n",
       " 'steven.kean@enron.com',\n",
       " 'kate.symes@enron.com',\n",
       " 'matthew.lenhart@enron.com']"
      ]
     },
     "metadata": {},
     "output_type": "display_data"
    }
   ],
   "source": [
    "non_authors = [\n",
    "    'enron.announcements@enron.com', 'no.address@enron.com', '40enron@enron.com',\n",
    "    'outlook.team@enron.com', 'arsystem@enron.com', 'updates@enron.com', 'calendar@enron.com', 'support@enron.com',\n",
    "    'system@enron.com', 'donotreply@enron.com', 'mailer-daemon@enron.com', 'postmaster@enron.com',\n",
    "]\n",
    "author_counts = df[~df['label'].isin(non_authors)]['label'].value_counts()\n",
    "NUM_TOP_AUTHORS = 10\n",
    "top_authors = author_counts.nlargest(NUM_TOP_AUTHORS).index.tolist()\n",
    "display(top_authors)\n",
    "df = df[df['label'].isin(top_authors)]"
   ]
  },
  {
   "cell_type": "code",
   "execution_count": 8,
   "id": "0a623eb5-33a0-4e3a-bbda-de1c03832bf8",
   "metadata": {},
   "outputs": [
    {
     "name": "stdout",
     "output_type": "stream",
     "text": [
      "CPU times: total: 3.12 s\n",
      "Wall time: 3.13 s\n"
     ]
    }
   ],
   "source": [
    "%%time\n",
    "df.to_csv(dataset_dir / \"emails_parsed.csv\")"
   ]
  },
  {
   "cell_type": "code",
   "execution_count": 9,
   "id": "99788f45-4bec-4bc5-9ae8-bc345f283644",
   "metadata": {},
   "outputs": [
    {
     "name": "stdout",
     "output_type": "stream",
     "text": [
      "Number of authors (classes): 10\n",
      "--- ngram_range: (1, 1), min_df: 1 ---\n"
     ]
    },
    {
     "data": {
      "text/plain": [
       "('X_train', 'y_train', 'X_test', 'y_test')"
      ]
     },
     "metadata": {},
     "output_type": "display_data"
    },
    {
     "data": {
      "text/plain": [
       "((76154, 45), (76154,), (19039, 45), (19039,))"
      ]
     },
     "metadata": {},
     "output_type": "display_data"
    },
    {
     "name": "stdout",
     "output_type": "stream",
     "text": [
      "LSA components: 45\n",
      "Reduced dimensions after LSA+LDA: (76154, 9)\n",
      "--- ngram_range: (1, 1), min_df: 2 ---\n"
     ]
    },
    {
     "data": {
      "text/plain": [
       "('X_train', 'y_train', 'X_test', 'y_test')"
      ]
     },
     "metadata": {},
     "output_type": "display_data"
    },
    {
     "data": {
      "text/plain": [
       "((76154, 45), (76154,), (19039, 45), (19039,))"
      ]
     },
     "metadata": {},
     "output_type": "display_data"
    },
    {
     "name": "stdout",
     "output_type": "stream",
     "text": [
      "LSA components: 45\n",
      "Reduced dimensions after LSA+LDA: (76154, 9)\n",
      "--- ngram_range: (2, 2), min_df: 1 ---\n"
     ]
    },
    {
     "data": {
      "text/plain": [
       "('X_train', 'y_train', 'X_test', 'y_test')"
      ]
     },
     "metadata": {},
     "output_type": "display_data"
    },
    {
     "data": {
      "text/plain": [
       "((76154, 1640), (76154,), (19039, 1640), (19039,))"
      ]
     },
     "metadata": {},
     "output_type": "display_data"
    },
    {
     "name": "stdout",
     "output_type": "stream",
     "text": [
      "LSA components: 500\n",
      "Reduced dimensions after LSA+LDA: (76154, 9)\n",
      "--- ngram_range: (2, 2), min_df: 2 ---\n"
     ]
    },
    {
     "data": {
      "text/plain": [
       "('X_train', 'y_train', 'X_test', 'y_test')"
      ]
     },
     "metadata": {},
     "output_type": "display_data"
    },
    {
     "data": {
      "text/plain": [
       "((76154, 1619), (76154,), (19039, 1619), (19039,))"
      ]
     },
     "metadata": {},
     "output_type": "display_data"
    },
    {
     "name": "stdout",
     "output_type": "stream",
     "text": [
      "LSA components: 500\n",
      "Reduced dimensions after LSA+LDA: (76154, 9)\n",
      "--- ngram_range: (3, 3), min_df: 1 ---\n"
     ]
    },
    {
     "data": {
      "text/plain": [
       "('X_train', 'y_train', 'X_test', 'y_test')"
      ]
     },
     "metadata": {},
     "output_type": "display_data"
    },
    {
     "data": {
      "text/plain": [
       "((76154, 28179), (76154,), (19039, 28179), (19039,))"
      ]
     },
     "metadata": {},
     "output_type": "display_data"
    },
    {
     "name": "stdout",
     "output_type": "stream",
     "text": [
      "LSA components: 500\n",
      "Reduced dimensions after LSA+LDA: (76154, 9)\n",
      "--- ngram_range: (3, 3), min_df: 2 ---\n"
     ]
    },
    {
     "data": {
      "text/plain": [
       "('X_train', 'y_train', 'X_test', 'y_test')"
      ]
     },
     "metadata": {},
     "output_type": "display_data"
    },
    {
     "data": {
      "text/plain": [
       "((76154, 26813), (76154,), (19039, 26813), (19039,))"
      ]
     },
     "metadata": {},
     "output_type": "display_data"
    },
    {
     "name": "stdout",
     "output_type": "stream",
     "text": [
      "LSA components: 500\n",
      "Reduced dimensions after LSA+LDA: (76154, 9)\n",
      "CPU times: total: 17min 34s\n",
      "Wall time: 2min 38s\n"
     ]
    }
   ],
   "source": [
    "%%time\n",
    "\n",
    "unique_labels = df['label'].unique()\n",
    "label2id: dict[str, np.int64] = {\n",
    "    lbl: np.int64(idx) for idx, lbl in enumerate(unique_labels)\n",
    "}\n",
    "id2label: dict[np.int64, str] = {idx: lbl for lbl, idx in label2id.items()}\n",
    "df['label'] = df['label'].map(lambda x: label2id[x])\n",
    "\n",
    "train_texts, test_texts, y_train, y_test = train_test_split(\n",
    "    df['pos_tags'], df['label'], test_size=0.2, random_state=SEED\n",
    ")\n",
    "ngram_ranges_to_test = [(1, 1), (2, 2), (3, 3)]\n",
    "min_df_to_test = [1, 2]\n",
    "\n",
    "preprocessed_X = {}\n",
    "\n",
    "print(f\"Number of authors (classes): {NUM_TOP_AUTHORS}\")\n",
    "n_lda_components = NUM_TOP_AUTHORS - 1\n",
    "\n",
    "for ngram_range in ngram_ranges_to_test:\n",
    "    for min_df in min_df_to_test:\n",
    "        print(f\"--- ngram_range: {ngram_range}, min_df: {min_df} ---\")\n",
    "        X_train_orig, X_test_orig, _ = preprocessing(\n",
    "                train_texts,\n",
    "                test_texts,\n",
    "                ngram_range=ngram_range,\n",
    "                min_doc_freq=min_df,\n",
    "                vectorizer_name=\"tfidf\",\n",
    "            )\n",
    "        display((\"X_train\", \"y_train\", \"X_test\", \"y_test\"))\n",
    "        display((X_train_orig.shape, y_train.shape, X_test_orig.shape, y_test.shape))\n",
    "        n_lsa_components = min(500, X_train_orig.shape[1], X_train_orig.shape[0])\n",
    "        lsa = TruncatedSVD(n_components=n_lsa_components, random_state=SEED)\n",
    "        print(f\"LSA components: {n_lsa_components}\")\n",
    "\n",
    "        lda = LinearDiscriminantAnalysis(n_components=min(n_lda_components, n_lsa_components-1))\n",
    "\n",
    "        reduction_pipeline = Pipeline([\n",
    "            ('lsa', lsa),\n",
    "            ('lda', lda)\n",
    "        ])\n",
    "\n",
    "        X_train_reduced = reduction_pipeline.fit_transform(X_train_orig, y_train)\n",
    "        X_test_reduced = reduction_pipeline.transform(X_test_orig)\n",
    "\n",
    "        print(f\"Reduced dimensions after LSA+LDA: {X_train_reduced.shape}\")\n",
    "        preprocessed_X[ngram_range, min_df] = X_train_reduced, X_test_reduced"
   ]
  },
  {
   "cell_type": "code",
   "execution_count": 10,
   "id": "5c57ce38-a8f9-4bef-92c5-ea64e19e38fb",
   "metadata": {},
   "outputs": [],
   "source": [
    "with open(dataset_dir / \"preprocessed_X.pkl\", \"wb\") as f:\n",
    "    pickle.dump(preprocessed_X, f)\n",
    "with open(dataset_dir / \"preprocessed_y.pkl\", \"wb\") as f:\n",
    "    pickle.dump((y_train, y_test), f)\n",
    "with open(dataset_dir / \"label2id.pkl\", \"wb\") as f:\n",
    "    pickle.dump(label2id, f)\n",
    "with open(dataset_dir / \"id2label.pkl\", \"wb\") as f:\n",
    "    pickle.dump(id2label, f)"
   ]
  }
 ],
 "metadata": {
  "kernelspec": {
   "display_name": "Python 3 (ipykernel)",
   "language": "python",
   "name": "python3"
  },
  "language_info": {
   "codemirror_mode": {
    "name": "ipython",
    "version": 3
   },
   "file_extension": ".py",
   "mimetype": "text/x-python",
   "name": "python",
   "nbconvert_exporter": "python",
   "pygments_lexer": "ipython3",
   "version": "3.13.0"
  }
 },
 "nbformat": 4,
 "nbformat_minor": 5
}
