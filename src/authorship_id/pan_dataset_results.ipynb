{
 "cells": [
  {
   "cell_type": "code",
   "execution_count": 1,
   "id": "2d7e2cec-cf1e-4ca5-aba7-3d925a72a237",
   "metadata": {},
   "outputs": [],
   "source": [
    "from pathlib import Path\n",
    "\n",
    "import matplotlib.pyplot as plt\n",
    "import numpy as np\n",
    "import pandas as pd\n",
    "import seaborn as sns\n",
    "from IPython.display import display\n",
    "from numpy.typing import NDArray\n",
    "from sklearn.ensemble import RandomForestClassifier\n",
    "from sklearn.linear_model import LogisticRegression\n",
    "from sklearn.metrics import classification_report, confusion_matrix, accuracy_score\n",
    "from sklearn.neighbors import KNeighborsClassifier\n",
    "from sklearn.neural_network import MLPClassifier\n",
    "from sklearn.svm import LinearSVC\n",
    "from sklearn.tree import DecisionTreeClassifier\n",
    "\n",
    "from authorship_id.utils import (\n",
    "    pos_tag_text,\n",
    "    preprocessing,\n",
    "    setup_nltk,\n",
    "    set_seed,\n",
    ")"
   ]
  },
  {
   "cell_type": "code",
   "execution_count": 2,
   "id": "73794619-a829-480c-8a11-a25f6041f640",
   "metadata": {},
   "outputs": [
    {
     "name": "stderr",
     "output_type": "stream",
     "text": [
      "[nltk_data] Downloading package punkt to\n",
      "[nltk_data]     C:\\Users\\user\\AppData\\Roaming\\nltk_data...\n",
      "[nltk_data]   Package punkt is already up-to-date!\n",
      "[nltk_data] Downloading package punkt_tab to\n",
      "[nltk_data]     C:\\Users\\user\\AppData\\Roaming\\nltk_data...\n",
      "[nltk_data]   Package punkt_tab is already up-to-date!\n",
      "[nltk_data] Downloading package averaged_perceptron_tagger to\n",
      "[nltk_data]     C:\\Users\\user\\AppData\\Roaming\\nltk_data...\n",
      "[nltk_data]   Package averaged_perceptron_tagger is already up-to-\n",
      "[nltk_data]       date!\n",
      "[nltk_data] Downloading package averaged_perceptron_tagger_eng to\n",
      "[nltk_data]     C:\\Users\\user\\AppData\\Roaming\\nltk_data...\n",
      "[nltk_data]   Package averaged_perceptron_tagger_eng is already up-to-\n",
      "[nltk_data]       date!\n"
     ]
    }
   ],
   "source": [
    "SEED = 42\n",
    "setup_nltk()\n",
    "set_seed(SEED)\n",
    "dataset_dir = Path(\"../../pan_dataset\")"
   ]
  },
  {
   "cell_type": "code",
   "execution_count": 3,
   "id": "90264711-bc5c-4d23-acfa-f4b216778401",
   "metadata": {},
   "outputs": [],
   "source": [
    "train_texts, train_labels = [], []\n",
    "train_path = dataset_dir / \"train\"\n",
    "\n",
    "const_len_to_trim = len(\"12Ctrain\")\n",
    "for file_path in sorted(train_path.glob(\"12Ctrain*.txt\")):\n",
    "    name = file_path.stem\n",
    "    label = name[const_len_to_trim : const_len_to_trim + 1]\n",
    "    with file_path.open(encoding=\"utf-8\") as f:\n",
    "        train_texts.append(f.read())\n",
    "        train_labels.append(label)"
   ]
  },
  {
   "cell_type": "code",
   "execution_count": 4,
   "id": "d12085aa-16ad-43e3-96e4-6e704f1441d2",
   "metadata": {},
   "outputs": [],
   "source": [
    "test_texts = []\n",
    "test_path = dataset_dir / \"test\"\n",
    "for file_path in sorted(test_path.glob(\"12Ctest*.txt\")):\n",
    "    with file_path.open(encoding=\"utf-8\") as f:\n",
    "        test_texts.append(f.read())"
   ]
  },
  {
   "cell_type": "code",
   "execution_count": 5,
   "id": "908e1851-0095-474a-b228-6632ba8513a2",
   "metadata": {},
   "outputs": [],
   "source": [
    "unique_labels = sorted(set(train_labels))\n",
    "label2id: dict[str, np.int64] = {\n",
    "    lbl: np.int64(idx) for idx, lbl in enumerate(unique_labels)\n",
    "}\n",
    "id2label: dict[np.int64, str] = {idx: lbl for lbl, idx in label2id.items()}\n",
    "\n",
    "y_train: NDArray[np.int64] = np.array([label2id[lbl] for lbl in train_labels])\n",
    "y_test: NDArray[np.int64] = np.array([label2id[lbl] for lbl in [\"C\", \"E\", \"A\", \"F\", \"H\", \"B\", \"G\", \"D\"]])\n",
    "\n",
    "train_texts = list(map(pos_tag_text, train_texts))\n",
    "test_texts = list(map(pos_tag_text, test_texts))"
   ]
  },
  {
   "cell_type": "code",
   "execution_count": 6,
   "id": "8e4aca13-38a3-49a7-b418-9bf9df4581ec",
   "metadata": {},
   "outputs": [
    {
     "name": "stdout",
     "output_type": "stream",
     "text": [
      "--- Testing RF with ngram_range=(1, 1), min_df=1 ---\n"
     ]
    },
    {
     "data": {
      "text/plain": [
       "('X_train', 'y_train', 'X_test', 'y_test')"
      ]
     },
     "metadata": {},
     "output_type": "display_data"
    },
    {
     "data": {
      "text/plain": [
       "((16, 43), (16,), (8, 43), (8,))"
      ]
     },
     "metadata": {},
     "output_type": "display_data"
    },
    {
     "name": "stdout",
     "output_type": "stream",
     "text": [
      "Accuracy: 1.0000\n",
      "--- Testing RF with ngram_range=(1, 1), min_df=2 ---\n"
     ]
    },
    {
     "data": {
      "text/plain": [
       "('X_train', 'y_train', 'X_test', 'y_test')"
      ]
     },
     "metadata": {},
     "output_type": "display_data"
    },
    {
     "data": {
      "text/plain": [
       "((16, 42), (16,), (8, 42), (8,))"
      ]
     },
     "metadata": {},
     "output_type": "display_data"
    },
    {
     "name": "stdout",
     "output_type": "stream",
     "text": [
      "Accuracy: 1.0000\n",
      "--- Testing RF with ngram_range=(2, 2), min_df=1 ---\n"
     ]
    },
    {
     "data": {
      "text/plain": [
       "('X_train', 'y_train', 'X_test', 'y_test')"
      ]
     },
     "metadata": {},
     "output_type": "display_data"
    },
    {
     "data": {
      "text/plain": [
       "((16, 1027), (16,), (8, 1027), (8,))"
      ]
     },
     "metadata": {},
     "output_type": "display_data"
    },
    {
     "name": "stdout",
     "output_type": "stream",
     "text": [
      "Accuracy: 0.7500\n",
      "--- Testing RF with ngram_range=(2, 2), min_df=2 ---\n"
     ]
    },
    {
     "data": {
      "text/plain": [
       "('X_train', 'y_train', 'X_test', 'y_test')"
      ]
     },
     "metadata": {},
     "output_type": "display_data"
    },
    {
     "data": {
      "text/plain": [
       "((16, 836), (16,), (8, 836), (8,))"
      ]
     },
     "metadata": {},
     "output_type": "display_data"
    },
    {
     "name": "stdout",
     "output_type": "stream",
     "text": [
      "Accuracy: 1.0000\n",
      "--- Testing RF with ngram_range=(3, 3), min_df=1 ---\n"
     ]
    },
    {
     "data": {
      "text/plain": [
       "('X_train', 'y_train', 'X_test', 'y_test')"
      ]
     },
     "metadata": {},
     "output_type": "display_data"
    },
    {
     "data": {
      "text/plain": [
       "((16, 8387), (16,), (8, 8387), (8,))"
      ]
     },
     "metadata": {},
     "output_type": "display_data"
    },
    {
     "name": "stdout",
     "output_type": "stream",
     "text": [
      "Accuracy: 0.7500\n",
      "--- Testing RF with ngram_range=(3, 3), min_df=2 ---\n"
     ]
    },
    {
     "data": {
      "text/plain": [
       "('X_train', 'y_train', 'X_test', 'y_test')"
      ]
     },
     "metadata": {},
     "output_type": "display_data"
    },
    {
     "data": {
      "text/plain": [
       "((16, 5038), (16,), (8, 5038), (8,))"
      ]
     },
     "metadata": {},
     "output_type": "display_data"
    },
    {
     "name": "stdout",
     "output_type": "stream",
     "text": [
      "Accuracy: 0.6250\n",
      "--- Testing DT with ngram_range=(1, 1), min_df=1 ---\n"
     ]
    },
    {
     "data": {
      "text/plain": [
       "('X_train', 'y_train', 'X_test', 'y_test')"
      ]
     },
     "metadata": {},
     "output_type": "display_data"
    },
    {
     "data": {
      "text/plain": [
       "((16, 43), (16,), (8, 43), (8,))"
      ]
     },
     "metadata": {},
     "output_type": "display_data"
    },
    {
     "name": "stdout",
     "output_type": "stream",
     "text": [
      "Accuracy: 0.5000\n",
      "--- Testing DT with ngram_range=(1, 1), min_df=2 ---\n"
     ]
    },
    {
     "data": {
      "text/plain": [
       "('X_train', 'y_train', 'X_test', 'y_test')"
      ]
     },
     "metadata": {},
     "output_type": "display_data"
    },
    {
     "data": {
      "text/plain": [
       "((16, 42), (16,), (8, 42), (8,))"
      ]
     },
     "metadata": {},
     "output_type": "display_data"
    },
    {
     "name": "stdout",
     "output_type": "stream",
     "text": [
      "Accuracy: 0.2500\n",
      "--- Testing DT with ngram_range=(2, 2), min_df=1 ---\n"
     ]
    },
    {
     "data": {
      "text/plain": [
       "('X_train', 'y_train', 'X_test', 'y_test')"
      ]
     },
     "metadata": {},
     "output_type": "display_data"
    },
    {
     "data": {
      "text/plain": [
       "((16, 1027), (16,), (8, 1027), (8,))"
      ]
     },
     "metadata": {},
     "output_type": "display_data"
    },
    {
     "name": "stdout",
     "output_type": "stream",
     "text": [
      "Accuracy: 0.1250\n",
      "--- Testing DT with ngram_range=(2, 2), min_df=2 ---\n"
     ]
    },
    {
     "data": {
      "text/plain": [
       "('X_train', 'y_train', 'X_test', 'y_test')"
      ]
     },
     "metadata": {},
     "output_type": "display_data"
    },
    {
     "data": {
      "text/plain": [
       "((16, 836), (16,), (8, 836), (8,))"
      ]
     },
     "metadata": {},
     "output_type": "display_data"
    },
    {
     "name": "stdout",
     "output_type": "stream",
     "text": [
      "Accuracy: 0.3750\n",
      "--- Testing DT with ngram_range=(3, 3), min_df=1 ---\n"
     ]
    },
    {
     "data": {
      "text/plain": [
       "('X_train', 'y_train', 'X_test', 'y_test')"
      ]
     },
     "metadata": {},
     "output_type": "display_data"
    },
    {
     "data": {
      "text/plain": [
       "((16, 8387), (16,), (8, 8387), (8,))"
      ]
     },
     "metadata": {},
     "output_type": "display_data"
    },
    {
     "name": "stdout",
     "output_type": "stream",
     "text": [
      "Accuracy: 0.3750\n",
      "--- Testing DT with ngram_range=(3, 3), min_df=2 ---\n"
     ]
    },
    {
     "data": {
      "text/plain": [
       "('X_train', 'y_train', 'X_test', 'y_test')"
      ]
     },
     "metadata": {},
     "output_type": "display_data"
    },
    {
     "data": {
      "text/plain": [
       "((16, 5038), (16,), (8, 5038), (8,))"
      ]
     },
     "metadata": {},
     "output_type": "display_data"
    },
    {
     "name": "stdout",
     "output_type": "stream",
     "text": [
      "Accuracy: 0.3750\n",
      "--- Testing SVM with ngram_range=(1, 1), min_df=1 ---\n"
     ]
    },
    {
     "data": {
      "text/plain": [
       "('X_train', 'y_train', 'X_test', 'y_test')"
      ]
     },
     "metadata": {},
     "output_type": "display_data"
    },
    {
     "data": {
      "text/plain": [
       "((16, 43), (16,), (8, 43), (8,))"
      ]
     },
     "metadata": {},
     "output_type": "display_data"
    },
    {
     "name": "stdout",
     "output_type": "stream",
     "text": [
      "Accuracy: 0.8750\n",
      "--- Testing SVM with ngram_range=(1, 1), min_df=2 ---\n"
     ]
    },
    {
     "name": "stderr",
     "output_type": "stream",
     "text": [
      "D:\\mle_proj\\authorship_id\\.venv\\Lib\\site-packages\\sklearn\\svm\\_base.py:1250: ConvergenceWarning: Liblinear failed to converge, increase the number of iterations.\n",
      "  warnings.warn(\n"
     ]
    },
    {
     "data": {
      "text/plain": [
       "('X_train', 'y_train', 'X_test', 'y_test')"
      ]
     },
     "metadata": {},
     "output_type": "display_data"
    },
    {
     "data": {
      "text/plain": [
       "((16, 42), (16,), (8, 42), (8,))"
      ]
     },
     "metadata": {},
     "output_type": "display_data"
    },
    {
     "name": "stdout",
     "output_type": "stream",
     "text": [
      "Accuracy: 0.8750\n",
      "--- Testing SVM with ngram_range=(2, 2), min_df=1 ---\n"
     ]
    },
    {
     "name": "stderr",
     "output_type": "stream",
     "text": [
      "D:\\mle_proj\\authorship_id\\.venv\\Lib\\site-packages\\sklearn\\svm\\_base.py:1250: ConvergenceWarning: Liblinear failed to converge, increase the number of iterations.\n",
      "  warnings.warn(\n"
     ]
    },
    {
     "data": {
      "text/plain": [
       "('X_train', 'y_train', 'X_test', 'y_test')"
      ]
     },
     "metadata": {},
     "output_type": "display_data"
    },
    {
     "data": {
      "text/plain": [
       "((16, 1027), (16,), (8, 1027), (8,))"
      ]
     },
     "metadata": {},
     "output_type": "display_data"
    },
    {
     "name": "stdout",
     "output_type": "stream",
     "text": [
      "Accuracy: 0.8750\n",
      "--- Testing SVM with ngram_range=(2, 2), min_df=2 ---\n"
     ]
    },
    {
     "data": {
      "text/plain": [
       "('X_train', 'y_train', 'X_test', 'y_test')"
      ]
     },
     "metadata": {},
     "output_type": "display_data"
    },
    {
     "data": {
      "text/plain": [
       "((16, 836), (16,), (8, 836), (8,))"
      ]
     },
     "metadata": {},
     "output_type": "display_data"
    },
    {
     "name": "stdout",
     "output_type": "stream",
     "text": [
      "Accuracy: 1.0000\n",
      "--- Testing SVM with ngram_range=(3, 3), min_df=1 ---\n"
     ]
    },
    {
     "data": {
      "text/plain": [
       "('X_train', 'y_train', 'X_test', 'y_test')"
      ]
     },
     "metadata": {},
     "output_type": "display_data"
    },
    {
     "data": {
      "text/plain": [
       "((16, 8387), (16,), (8, 8387), (8,))"
      ]
     },
     "metadata": {},
     "output_type": "display_data"
    },
    {
     "name": "stdout",
     "output_type": "stream",
     "text": [
      "Accuracy: 0.8750\n",
      "--- Testing SVM with ngram_range=(3, 3), min_df=2 ---\n"
     ]
    },
    {
     "data": {
      "text/plain": [
       "('X_train', 'y_train', 'X_test', 'y_test')"
      ]
     },
     "metadata": {},
     "output_type": "display_data"
    },
    {
     "data": {
      "text/plain": [
       "((16, 5038), (16,), (8, 5038), (8,))"
      ]
     },
     "metadata": {},
     "output_type": "display_data"
    },
    {
     "name": "stdout",
     "output_type": "stream",
     "text": [
      "Accuracy: 0.8750\n",
      "--- Testing LogReg with ngram_range=(1, 1), min_df=1 ---\n"
     ]
    },
    {
     "data": {
      "text/plain": [
       "('X_train', 'y_train', 'X_test', 'y_test')"
      ]
     },
     "metadata": {},
     "output_type": "display_data"
    },
    {
     "data": {
      "text/plain": [
       "((16, 43), (16,), (8, 43), (8,))"
      ]
     },
     "metadata": {},
     "output_type": "display_data"
    },
    {
     "name": "stdout",
     "output_type": "stream",
     "text": [
      "Accuracy: 1.0000\n",
      "--- Testing LogReg with ngram_range=(1, 1), min_df=2 ---\n"
     ]
    },
    {
     "data": {
      "text/plain": [
       "('X_train', 'y_train', 'X_test', 'y_test')"
      ]
     },
     "metadata": {},
     "output_type": "display_data"
    },
    {
     "data": {
      "text/plain": [
       "((16, 42), (16,), (8, 42), (8,))"
      ]
     },
     "metadata": {},
     "output_type": "display_data"
    },
    {
     "name": "stdout",
     "output_type": "stream",
     "text": [
      "Accuracy: 1.0000\n",
      "--- Testing LogReg with ngram_range=(2, 2), min_df=1 ---\n"
     ]
    },
    {
     "data": {
      "text/plain": [
       "('X_train', 'y_train', 'X_test', 'y_test')"
      ]
     },
     "metadata": {},
     "output_type": "display_data"
    },
    {
     "data": {
      "text/plain": [
       "((16, 1027), (16,), (8, 1027), (8,))"
      ]
     },
     "metadata": {},
     "output_type": "display_data"
    },
    {
     "name": "stdout",
     "output_type": "stream",
     "text": [
      "Accuracy: 0.8750\n",
      "--- Testing LogReg with ngram_range=(2, 2), min_df=2 ---\n"
     ]
    },
    {
     "data": {
      "text/plain": [
       "('X_train', 'y_train', 'X_test', 'y_test')"
      ]
     },
     "metadata": {},
     "output_type": "display_data"
    },
    {
     "data": {
      "text/plain": [
       "((16, 836), (16,), (8, 836), (8,))"
      ]
     },
     "metadata": {},
     "output_type": "display_data"
    },
    {
     "name": "stdout",
     "output_type": "stream",
     "text": [
      "Accuracy: 1.0000\n",
      "--- Testing LogReg with ngram_range=(3, 3), min_df=1 ---\n"
     ]
    },
    {
     "data": {
      "text/plain": [
       "('X_train', 'y_train', 'X_test', 'y_test')"
      ]
     },
     "metadata": {},
     "output_type": "display_data"
    },
    {
     "data": {
      "text/plain": [
       "((16, 8387), (16,), (8, 8387), (8,))"
      ]
     },
     "metadata": {},
     "output_type": "display_data"
    },
    {
     "name": "stdout",
     "output_type": "stream",
     "text": [
      "Accuracy: 0.8750\n",
      "--- Testing LogReg with ngram_range=(3, 3), min_df=2 ---\n"
     ]
    },
    {
     "data": {
      "text/plain": [
       "('X_train', 'y_train', 'X_test', 'y_test')"
      ]
     },
     "metadata": {},
     "output_type": "display_data"
    },
    {
     "data": {
      "text/plain": [
       "((16, 5038), (16,), (8, 5038), (8,))"
      ]
     },
     "metadata": {},
     "output_type": "display_data"
    },
    {
     "name": "stdout",
     "output_type": "stream",
     "text": [
      "Accuracy: 0.8750\n",
      "--- Testing KNN with ngram_range=(1, 1), min_df=1 ---\n"
     ]
    },
    {
     "data": {
      "text/plain": [
       "('X_train', 'y_train', 'X_test', 'y_test')"
      ]
     },
     "metadata": {},
     "output_type": "display_data"
    },
    {
     "data": {
      "text/plain": [
       "((16, 43), (16,), (8, 43), (8,))"
      ]
     },
     "metadata": {},
     "output_type": "display_data"
    },
    {
     "name": "stdout",
     "output_type": "stream",
     "text": [
      "Accuracy: 0.7500\n",
      "--- Testing KNN with ngram_range=(1, 1), min_df=2 ---\n"
     ]
    },
    {
     "data": {
      "text/plain": [
       "('X_train', 'y_train', 'X_test', 'y_test')"
      ]
     },
     "metadata": {},
     "output_type": "display_data"
    },
    {
     "data": {
      "text/plain": [
       "((16, 42), (16,), (8, 42), (8,))"
      ]
     },
     "metadata": {},
     "output_type": "display_data"
    },
    {
     "name": "stdout",
     "output_type": "stream",
     "text": [
      "Accuracy: 0.7500\n",
      "--- Testing KNN with ngram_range=(2, 2), min_df=1 ---\n"
     ]
    },
    {
     "data": {
      "text/plain": [
       "('X_train', 'y_train', 'X_test', 'y_test')"
      ]
     },
     "metadata": {},
     "output_type": "display_data"
    },
    {
     "data": {
      "text/plain": [
       "((16, 1027), (16,), (8, 1027), (8,))"
      ]
     },
     "metadata": {},
     "output_type": "display_data"
    },
    {
     "name": "stdout",
     "output_type": "stream",
     "text": [
      "Accuracy: 0.7500\n",
      "--- Testing KNN with ngram_range=(2, 2), min_df=2 ---\n"
     ]
    },
    {
     "data": {
      "text/plain": [
       "('X_train', 'y_train', 'X_test', 'y_test')"
      ]
     },
     "metadata": {},
     "output_type": "display_data"
    },
    {
     "data": {
      "text/plain": [
       "((16, 836), (16,), (8, 836), (8,))"
      ]
     },
     "metadata": {},
     "output_type": "display_data"
    },
    {
     "name": "stdout",
     "output_type": "stream",
     "text": [
      "Accuracy: 0.5000\n",
      "--- Testing KNN with ngram_range=(3, 3), min_df=1 ---\n"
     ]
    },
    {
     "data": {
      "text/plain": [
       "('X_train', 'y_train', 'X_test', 'y_test')"
      ]
     },
     "metadata": {},
     "output_type": "display_data"
    },
    {
     "data": {
      "text/plain": [
       "((16, 8387), (16,), (8, 8387), (8,))"
      ]
     },
     "metadata": {},
     "output_type": "display_data"
    },
    {
     "name": "stdout",
     "output_type": "stream",
     "text": [
      "Accuracy: 0.6250\n",
      "--- Testing KNN with ngram_range=(3, 3), min_df=2 ---\n"
     ]
    },
    {
     "data": {
      "text/plain": [
       "('X_train', 'y_train', 'X_test', 'y_test')"
      ]
     },
     "metadata": {},
     "output_type": "display_data"
    },
    {
     "data": {
      "text/plain": [
       "((16, 5038), (16,), (8, 5038), (8,))"
      ]
     },
     "metadata": {},
     "output_type": "display_data"
    },
    {
     "name": "stdout",
     "output_type": "stream",
     "text": [
      "Accuracy: 0.3750\n",
      "--- Testing MLP with ngram_range=(1, 1), min_df=1 ---\n"
     ]
    },
    {
     "data": {
      "text/plain": [
       "('X_train', 'y_train', 'X_test', 'y_test')"
      ]
     },
     "metadata": {},
     "output_type": "display_data"
    },
    {
     "data": {
      "text/plain": [
       "((16, 43), (16,), (8, 43), (8,))"
      ]
     },
     "metadata": {},
     "output_type": "display_data"
    },
    {
     "name": "stdout",
     "output_type": "stream",
     "text": [
      "Accuracy: 0.7500\n",
      "--- Testing MLP with ngram_range=(1, 1), min_df=2 ---\n"
     ]
    },
    {
     "name": "stderr",
     "output_type": "stream",
     "text": [
      "D:\\mle_proj\\authorship_id\\.venv\\Lib\\site-packages\\sklearn\\neural_network\\_multilayer_perceptron.py:781: ConvergenceWarning: Stochastic Optimizer: Maximum iterations (300) reached and the optimization hasn't converged yet.\n",
      "  warnings.warn(\n"
     ]
    },
    {
     "data": {
      "text/plain": [
       "('X_train', 'y_train', 'X_test', 'y_test')"
      ]
     },
     "metadata": {},
     "output_type": "display_data"
    },
    {
     "data": {
      "text/plain": [
       "((16, 42), (16,), (8, 42), (8,))"
      ]
     },
     "metadata": {},
     "output_type": "display_data"
    },
    {
     "name": "stdout",
     "output_type": "stream",
     "text": [
      "Accuracy: 0.7500\n",
      "--- Testing MLP with ngram_range=(2, 2), min_df=1 ---\n"
     ]
    },
    {
     "name": "stderr",
     "output_type": "stream",
     "text": [
      "D:\\mle_proj\\authorship_id\\.venv\\Lib\\site-packages\\sklearn\\neural_network\\_multilayer_perceptron.py:781: ConvergenceWarning: Stochastic Optimizer: Maximum iterations (300) reached and the optimization hasn't converged yet.\n",
      "  warnings.warn(\n"
     ]
    },
    {
     "data": {
      "text/plain": [
       "('X_train', 'y_train', 'X_test', 'y_test')"
      ]
     },
     "metadata": {},
     "output_type": "display_data"
    },
    {
     "data": {
      "text/plain": [
       "((16, 1027), (16,), (8, 1027), (8,))"
      ]
     },
     "metadata": {},
     "output_type": "display_data"
    },
    {
     "name": "stdout",
     "output_type": "stream",
     "text": [
      "Accuracy: 0.3750\n",
      "--- Testing MLP with ngram_range=(2, 2), min_df=2 ---\n"
     ]
    },
    {
     "data": {
      "text/plain": [
       "('X_train', 'y_train', 'X_test', 'y_test')"
      ]
     },
     "metadata": {},
     "output_type": "display_data"
    },
    {
     "data": {
      "text/plain": [
       "((16, 836), (16,), (8, 836), (8,))"
      ]
     },
     "metadata": {},
     "output_type": "display_data"
    },
    {
     "name": "stdout",
     "output_type": "stream",
     "text": [
      "Accuracy: 0.7500\n",
      "--- Testing MLP with ngram_range=(3, 3), min_df=1 ---\n"
     ]
    },
    {
     "data": {
      "text/plain": [
       "('X_train', 'y_train', 'X_test', 'y_test')"
      ]
     },
     "metadata": {},
     "output_type": "display_data"
    },
    {
     "data": {
      "text/plain": [
       "((16, 8387), (16,), (8, 8387), (8,))"
      ]
     },
     "metadata": {},
     "output_type": "display_data"
    },
    {
     "name": "stdout",
     "output_type": "stream",
     "text": [
      "Accuracy: 0.3750\n",
      "--- Testing MLP with ngram_range=(3, 3), min_df=2 ---\n"
     ]
    },
    {
     "data": {
      "text/plain": [
       "('X_train', 'y_train', 'X_test', 'y_test')"
      ]
     },
     "metadata": {},
     "output_type": "display_data"
    },
    {
     "data": {
      "text/plain": [
       "((16, 5038), (16,), (8, 5038), (8,))"
      ]
     },
     "metadata": {},
     "output_type": "display_data"
    },
    {
     "name": "stdout",
     "output_type": "stream",
     "text": [
      "Accuracy: 0.5000\n"
     ]
    }
   ],
   "source": [
    "ngram_ranges_to_test = [(1, 1), (2, 2), (3, 3)]\n",
    "min_df_to_test = [1, 2]\n",
    "results_df = pd.DataFrame(columns=[\"Model\", \"Accuracy\", \"n_gram\", \"min_df\"])\n",
    "models = {\n",
    "    \"RF\": lambda: RandomForestClassifier(n_estimators=100, max_depth=50, random_state=SEED),\n",
    "    \"DT\": lambda: DecisionTreeClassifier(criterion=\"entropy\", max_depth=50, random_state=SEED),\n",
    "    \"SVM\": lambda: LinearSVC(dual=True),\n",
    "    \"LogReg\": lambda: LogisticRegression(max_iter=500, random_state=SEED),\n",
    "    \"KNN\": lambda: KNeighborsClassifier(n_neighbors=5, metric=\"cosine\"),\n",
    "    \"MLP\": lambda: MLPClassifier(random_state=SEED, max_iter=300),\n",
    "}\n",
    "\n",
    "all_preds = {}\n",
    "\n",
    "for model_name in models:\n",
    "    best_accuracy = 0\n",
    "    best_params = {}\n",
    "\n",
    "    for ngram_range in ngram_ranges_to_test:\n",
    "        for min_df in min_df_to_test:\n",
    "            print(\n",
    "                f\"--- Testing {model_name} with ngram_range={ngram_range}, min_df={min_df} ---\"\n",
    "            )\n",
    "\n",
    "            X_train, X_test, _ = preprocessing(\n",
    "                train_texts,\n",
    "                test_texts,\n",
    "                ngram_range=ngram_range,\n",
    "                min_doc_freq=min_df,\n",
    "                vectorizer_name=\"tfidf\",\n",
    "            )\n",
    "\n",
    "            display((\"X_train\", \"y_train\", \"X_test\", \"y_test\"))\n",
    "            display((X_train.shape, y_train.shape, X_test.shape, y_test.shape))\n",
    "\n",
    "            model = models[model_name]()\n",
    "            model.fit(X_train, y_train)\n",
    "\n",
    "            preds = model.predict(X_test)\n",
    "            accuracy = accuracy_score(y_test, preds)\n",
    "            print(f\"Accuracy: {accuracy:.4f}\")\n",
    "\n",
    "            if accuracy > best_accuracy:\n",
    "                best_accuracy = accuracy\n",
    "                best_params = {\"ngram_range\": ngram_range, \"min_df\": min_df}\n",
    "                all_preds[model_name] = preds\n",
    "\n",
    "    new_row = pd.Series(\n",
    "        {\n",
    "            \"Model\": model_name,\n",
    "            \"Accuracy\": best_accuracy * 100,\n",
    "            \"n_gram\": best_params[\"ngram_range\"],\n",
    "            \"min_df\": best_params[\"min_df\"],\n",
    "        }\n",
    "    )\n",
    "    results_df = pd.concat([results_df, new_row.to_frame().T], ignore_index=True)"
   ]
  },
  {
   "cell_type": "code",
   "execution_count": 7,
   "id": "0d12bff1-7dd5-4093-8c76-8da58b440898",
   "metadata": {},
   "outputs": [
    {
     "name": "stdout",
     "output_type": "stream",
     "text": [
      "--- Testing RF_Count with ngram_range=(1, 1), min_df=1 ---\n"
     ]
    },
    {
     "data": {
      "text/plain": [
       "('X_train', 'y_train', 'X_test', 'y_test')"
      ]
     },
     "metadata": {},
     "output_type": "display_data"
    },
    {
     "data": {
      "text/plain": [
       "((16, 43), (16,), (8, 43), (8,))"
      ]
     },
     "metadata": {},
     "output_type": "display_data"
    },
    {
     "name": "stdout",
     "output_type": "stream",
     "text": [
      "Accuracy: 0.8750\n",
      "--- Testing RF_Count with ngram_range=(1, 1), min_df=2 ---\n"
     ]
    },
    {
     "data": {
      "text/plain": [
       "('X_train', 'y_train', 'X_test', 'y_test')"
      ]
     },
     "metadata": {},
     "output_type": "display_data"
    },
    {
     "data": {
      "text/plain": [
       "((16, 42), (16,), (8, 42), (8,))"
      ]
     },
     "metadata": {},
     "output_type": "display_data"
    },
    {
     "name": "stdout",
     "output_type": "stream",
     "text": [
      "Accuracy: 0.7500\n",
      "--- Testing RF_Count with ngram_range=(2, 2), min_df=1 ---\n"
     ]
    },
    {
     "data": {
      "text/plain": [
       "('X_train', 'y_train', 'X_test', 'y_test')"
      ]
     },
     "metadata": {},
     "output_type": "display_data"
    },
    {
     "data": {
      "text/plain": [
       "((16, 1027), (16,), (8, 1027), (8,))"
      ]
     },
     "metadata": {},
     "output_type": "display_data"
    },
    {
     "name": "stdout",
     "output_type": "stream",
     "text": [
      "Accuracy: 0.5000\n",
      "--- Testing RF_Count with ngram_range=(2, 2), min_df=2 ---\n"
     ]
    },
    {
     "data": {
      "text/plain": [
       "('X_train', 'y_train', 'X_test', 'y_test')"
      ]
     },
     "metadata": {},
     "output_type": "display_data"
    },
    {
     "data": {
      "text/plain": [
       "((16, 836), (16,), (8, 836), (8,))"
      ]
     },
     "metadata": {},
     "output_type": "display_data"
    },
    {
     "name": "stdout",
     "output_type": "stream",
     "text": [
      "Accuracy: 0.6250\n",
      "--- Testing RF_Count with ngram_range=(3, 3), min_df=1 ---\n"
     ]
    },
    {
     "data": {
      "text/plain": [
       "('X_train', 'y_train', 'X_test', 'y_test')"
      ]
     },
     "metadata": {},
     "output_type": "display_data"
    },
    {
     "data": {
      "text/plain": [
       "((16, 8387), (16,), (8, 8387), (8,))"
      ]
     },
     "metadata": {},
     "output_type": "display_data"
    },
    {
     "name": "stdout",
     "output_type": "stream",
     "text": [
      "Accuracy: 0.5000\n",
      "--- Testing RF_Count with ngram_range=(3, 3), min_df=2 ---\n"
     ]
    },
    {
     "data": {
      "text/plain": [
       "('X_train', 'y_train', 'X_test', 'y_test')"
      ]
     },
     "metadata": {},
     "output_type": "display_data"
    },
    {
     "data": {
      "text/plain": [
       "((16, 5038), (16,), (8, 5038), (8,))"
      ]
     },
     "metadata": {},
     "output_type": "display_data"
    },
    {
     "name": "stdout",
     "output_type": "stream",
     "text": [
      "Accuracy: 0.5000\n"
     ]
    },
    {
     "data": {
      "text/html": [
       "<div>\n",
       "<style scoped>\n",
       "    .dataframe tbody tr th:only-of-type {\n",
       "        vertical-align: middle;\n",
       "    }\n",
       "\n",
       "    .dataframe tbody tr th {\n",
       "        vertical-align: top;\n",
       "    }\n",
       "\n",
       "    .dataframe thead th {\n",
       "        text-align: right;\n",
       "    }\n",
       "</style>\n",
       "<table border=\"1\" class=\"dataframe\">\n",
       "  <thead>\n",
       "    <tr style=\"text-align: right;\">\n",
       "      <th></th>\n",
       "      <th>Model</th>\n",
       "      <th>Accuracy</th>\n",
       "      <th>n_gram</th>\n",
       "      <th>min_df</th>\n",
       "    </tr>\n",
       "  </thead>\n",
       "  <tbody>\n",
       "    <tr>\n",
       "      <th>0</th>\n",
       "      <td>RF</td>\n",
       "      <td>100.0</td>\n",
       "      <td>(1, 1)</td>\n",
       "      <td>1</td>\n",
       "    </tr>\n",
       "    <tr>\n",
       "      <th>1</th>\n",
       "      <td>DT</td>\n",
       "      <td>50.0</td>\n",
       "      <td>(1, 1)</td>\n",
       "      <td>1</td>\n",
       "    </tr>\n",
       "    <tr>\n",
       "      <th>2</th>\n",
       "      <td>SVM</td>\n",
       "      <td>100.0</td>\n",
       "      <td>(2, 2)</td>\n",
       "      <td>2</td>\n",
       "    </tr>\n",
       "    <tr>\n",
       "      <th>3</th>\n",
       "      <td>LogReg</td>\n",
       "      <td>100.0</td>\n",
       "      <td>(1, 1)</td>\n",
       "      <td>1</td>\n",
       "    </tr>\n",
       "    <tr>\n",
       "      <th>4</th>\n",
       "      <td>KNN</td>\n",
       "      <td>75.0</td>\n",
       "      <td>(1, 1)</td>\n",
       "      <td>1</td>\n",
       "    </tr>\n",
       "    <tr>\n",
       "      <th>5</th>\n",
       "      <td>MLP</td>\n",
       "      <td>75.0</td>\n",
       "      <td>(1, 1)</td>\n",
       "      <td>1</td>\n",
       "    </tr>\n",
       "    <tr>\n",
       "      <th>6</th>\n",
       "      <td>RF_Count</td>\n",
       "      <td>87.5</td>\n",
       "      <td>(1, 1)</td>\n",
       "      <td>1</td>\n",
       "    </tr>\n",
       "  </tbody>\n",
       "</table>\n",
       "</div>"
      ],
      "text/plain": [
       "      Model Accuracy  n_gram min_df\n",
       "0        RF    100.0  (1, 1)      1\n",
       "1        DT     50.0  (1, 1)      1\n",
       "2       SVM    100.0  (2, 2)      2\n",
       "3    LogReg    100.0  (1, 1)      1\n",
       "4       KNN     75.0  (1, 1)      1\n",
       "5       MLP     75.0  (1, 1)      1\n",
       "6  RF_Count     87.5  (1, 1)      1"
      ]
     },
     "metadata": {},
     "output_type": "display_data"
    }
   ],
   "source": [
    "best_accuracy = 0\n",
    "best_params = {}\n",
    "model_name = \"RF_Count\"\n",
    "\n",
    "for ngram_range in ngram_ranges_to_test:\n",
    "    for min_df in min_df_to_test:\n",
    "        print(\n",
    "            f\"--- Testing {model_name} with ngram_range={ngram_range}, min_df={min_df} ---\"\n",
    "        )\n",
    "\n",
    "        X_train, X_test, _ = preprocessing(\n",
    "            train_texts,\n",
    "            test_texts,\n",
    "            ngram_range=ngram_range,\n",
    "            min_doc_freq=min_df,\n",
    "            vectorizer_name=\"count\",\n",
    "        )\n",
    "\n",
    "        display((\"X_train\", \"y_train\", \"X_test\", \"y_test\"))\n",
    "        display((X_train.shape, y_train.shape, X_test.shape, y_test.shape))\n",
    "\n",
    "        model = models[\"RF\"]()\n",
    "        model.fit(X_train, y_train)\n",
    "\n",
    "        preds = model.predict(X_test)\n",
    "        accuracy = accuracy_score(y_test, preds)\n",
    "        print(f\"Accuracy: {accuracy:.4f}\")\n",
    "\n",
    "        if accuracy > best_accuracy:\n",
    "            best_accuracy = accuracy\n",
    "            best_params = {\"ngram_range\": ngram_range, \"min_df\": min_df}\n",
    "            all_preds[model_name] = preds\n",
    "\n",
    "new_row = pd.Series(\n",
    "    {\n",
    "        \"Model\": model_name,\n",
    "        \"Accuracy\": best_accuracy * 100,\n",
    "        \"n_gram\": best_params[\"ngram_range\"],\n",
    "        \"min_df\": best_params[\"min_df\"],\n",
    "    }\n",
    ")\n",
    "results_df = pd.concat([results_df, new_row.to_frame().T], ignore_index=True)\n",
    "\n",
    "display(results_df)"
   ]
  },
  {
   "cell_type": "code",
   "execution_count": 8,
   "id": "603db89e-1115-4068-a538-20c1c0912dfd",
   "metadata": {},
   "outputs": [
    {
     "data": {
      "text/plain": [
       "{'RF': array([2, 4, 0, 5, 7, 1, 6, 3]),\n",
       " 'DT': array([2, 0, 0, 2, 3, 1, 0, 3]),\n",
       " 'SVM': array([2, 4, 0, 5, 7, 1, 6, 3]),\n",
       " 'LogReg': array([2, 4, 0, 5, 7, 1, 6, 3]),\n",
       " 'KNN': array([2, 4, 0, 5, 7, 1, 1, 5]),\n",
       " 'MLP': array([2, 0, 0, 5, 0, 1, 6, 3]),\n",
       " 'RF_Count': array([1, 4, 0, 5, 7, 1, 6, 3])}"
      ]
     },
     "metadata": {},
     "output_type": "display_data"
    },
    {
     "data": {
      "text/plain": [
       "array([2, 4, 0, 5, 7, 1, 6, 3])"
      ]
     },
     "metadata": {},
     "output_type": "display_data"
    }
   ],
   "source": [
    "display(all_preds)\n",
    "display(y_test)"
   ]
  },
  {
   "cell_type": "code",
   "execution_count": 9,
   "id": "3dfd54e8-44c6-407d-94f4-ec6d142f7195",
   "metadata": {},
   "outputs": [
    {
     "name": "stdout",
     "output_type": "stream",
     "text": [
      "              precision    recall  f1-score   support\n",
      "\n",
      "           0       1.00      1.00      1.00         1\n",
      "           1       1.00      1.00      1.00         1\n",
      "           2       1.00      1.00      1.00         1\n",
      "           3       1.00      1.00      1.00         1\n",
      "           4       1.00      1.00      1.00         1\n",
      "           5       1.00      1.00      1.00         1\n",
      "           6       1.00      1.00      1.00         1\n",
      "           7       1.00      1.00      1.00         1\n",
      "\n",
      "    accuracy                           1.00         8\n",
      "   macro avg       1.00      1.00      1.00         8\n",
      "weighted avg       1.00      1.00      1.00         8\n",
      "\n"
     ]
    },
    {
     "data": {
      "image/png": "[encoded data removed]",
      "text/plain": [
       "<Figure size 640x480 with 2 Axes>"
      ]
     },
     "metadata": {},
     "output_type": "display_data"
    },
    {
     "name": "stdout",
     "output_type": "stream",
     "text": [
      "              precision    recall  f1-score   support\n",
      "\n",
      "           0       0.33      1.00      0.50         1\n",
      "           1       1.00      1.00      1.00         1\n",
      "           2       0.50      1.00      0.67         1\n",
      "           3       0.50      1.00      0.67         1\n",
      "           4       0.00      0.00      0.00         1\n",
      "           5       0.00      0.00      0.00         1\n",
      "           6       0.00      0.00      0.00         1\n",
      "           7       0.00      0.00      0.00         1\n",
      "\n",
      "    accuracy                           0.50         8\n",
      "   macro avg       0.29      0.50      0.35         8\n",
      "weighted avg       0.29      0.50      0.35         8\n",
      "\n"
     ]
    },
    {
     "name": "stderr",
     "output_type": "stream",
     "text": [
      "D:\\mle_proj\\authorship_id\\.venv\\Lib\\site-packages\\sklearn\\metrics\\_classification.py:1731: UndefinedMetricWarning: Precision is ill-defined and being set to 0.0 in labels with no predicted samples. Use `zero_division` parameter to control this behavior.\n",
      "  _warn_prf(average, modifier, f\"{metric.capitalize()} is\", result.shape[0])\n",
      "D:\\mle_proj\\authorship_id\\.venv\\Lib\\site-packages\\sklearn\\metrics\\_classification.py:1731: UndefinedMetricWarning: Precision is ill-defined and being set to 0.0 in labels with no predicted samples. Use `zero_division` parameter to control this behavior.\n",
      "  _warn_prf(average, modifier, f\"{metric.capitalize()} is\", result.shape[0])\n",
      "D:\\mle_proj\\authorship_id\\.venv\\Lib\\site-packages\\sklearn\\metrics\\_classification.py:1731: UndefinedMetricWarning: Precision is ill-defined and being set to 0.0 in labels with no predicted samples. Use `zero_division` parameter to control this behavior.\n",
      "  _warn_prf(average, modifier, f\"{metric.capitalize()} is\", result.shape[0])\n"
     ]
    },
    {
     "data": {
      "image/png": "[encoded data removed]",
      "text/plain": [
       "<Figure size 640x480 with 2 Axes>"
      ]
     },
     "metadata": {},
     "output_type": "display_data"
    },
    {
     "name": "stdout",
     "output_type": "stream",
     "text": [
      "              precision    recall  f1-score   support\n",
      "\n",
      "           0       1.00      1.00      1.00         1\n",
      "           1       1.00      1.00      1.00         1\n",
      "           2       1.00      1.00      1.00         1\n",
      "           3       1.00      1.00      1.00         1\n",
      "           4       1.00      1.00      1.00         1\n",
      "           5       1.00      1.00      1.00         1\n",
      "           6       1.00      1.00      1.00         1\n",
      "           7       1.00      1.00      1.00         1\n",
      "\n",
      "    accuracy                           1.00         8\n",
      "   macro avg       1.00      1.00      1.00         8\n",
      "weighted avg       1.00      1.00      1.00         8\n",
      "\n"
     ]
    },
    {
     "data": {
      "image/png": "[encoded data removed]",
      "text/plain": [
       "<Figure size 640x480 with 2 Axes>"
      ]
     },
     "metadata": {},
     "output_type": "display_data"
    },
    {
     "name": "stdout",
     "output_type": "stream",
     "text": [
      "              precision    recall  f1-score   support\n",
      "\n",
      "           0       1.00      1.00      1.00         1\n",
      "           1       1.00      1.00      1.00         1\n",
      "           2       1.00      1.00      1.00         1\n",
      "           3       1.00      1.00      1.00         1\n",
      "           4       1.00      1.00      1.00         1\n",
      "           5       1.00      1.00      1.00         1\n",
      "           6       1.00      1.00      1.00         1\n",
      "           7       1.00      1.00      1.00         1\n",
      "\n",
      "    accuracy                           1.00         8\n",
      "   macro avg       1.00      1.00      1.00         8\n",
      "weighted avg       1.00      1.00      1.00         8\n",
      "\n"
     ]
    },
    {
     "data": {
      "image/png": "[encoded data removed]",
      "text/plain": [
       "<Figure size 640x480 with 2 Axes>"
      ]
     },
     "metadata": {},
     "output_type": "display_data"
    },
    {
     "name": "stdout",
     "output_type": "stream",
     "text": [
      "              precision    recall  f1-score   support\n",
      "\n",
      "           0       1.00      1.00      1.00         1\n",
      "           1       0.50      1.00      0.67         1\n",
      "           2       1.00      1.00      1.00         1\n",
      "           3       0.00      0.00      0.00         1\n",
      "           4       1.00      1.00      1.00         1\n",
      "           5       0.50      1.00      0.67         1\n",
      "           6       0.00      0.00      0.00         1\n",
      "           7       1.00      1.00      1.00         1\n",
      "\n",
      "    accuracy                           0.75         8\n",
      "   macro avg       0.62      0.75      0.67         8\n",
      "weighted avg       0.62      0.75      0.67         8\n",
      "\n"
     ]
    },
    {
     "name": "stderr",
     "output_type": "stream",
     "text": [
      "D:\\mle_proj\\authorship_id\\.venv\\Lib\\site-packages\\sklearn\\metrics\\_classification.py:1731: UndefinedMetricWarning: Precision is ill-defined and being set to 0.0 in labels with no predicted samples. Use `zero_division` parameter to control this behavior.\n",
      "  _warn_prf(average, modifier, f\"{metric.capitalize()} is\", result.shape[0])\n",
      "D:\\mle_proj\\authorship_id\\.venv\\Lib\\site-packages\\sklearn\\metrics\\_classification.py:1731: UndefinedMetricWarning: Precision is ill-defined and being set to 0.0 in labels with no predicted samples. Use `zero_division` parameter to control this behavior.\n",
      "  _warn_prf(average, modifier, f\"{metric.capitalize()} is\", result.shape[0])\n",
      "D:\\mle_proj\\authorship_id\\.venv\\Lib\\site-packages\\sklearn\\metrics\\_classification.py:1731: UndefinedMetricWarning: Precision is ill-defined and being set to 0.0 in labels with no predicted samples. Use `zero_division` parameter to control this behavior.\n",
      "  _warn_prf(average, modifier, f\"{metric.capitalize()} is\", result.shape[0])\n"
     ]
    },
    {
     "data": {
      "image/png": "[encoded data removed]",
      "text/plain": [
       "<Figure size 640x480 with 2 Axes>"
      ]
     },
     "metadata": {},
     "output_type": "display_data"
    },
    {
     "name": "stderr",
     "output_type": "stream",
     "text": [
      "D:\\mle_proj\\authorship_id\\.venv\\Lib\\site-packages\\sklearn\\metrics\\_classification.py:1731: UndefinedMetricWarning: Precision is ill-defined and being set to 0.0 in labels with no predicted samples. Use `zero_division` parameter to control this behavior.\n",
      "  _warn_prf(average, modifier, f\"{metric.capitalize()} is\", result.shape[0])\n",
      "D:\\mle_proj\\authorship_id\\.venv\\Lib\\site-packages\\sklearn\\metrics\\_classification.py:1731: UndefinedMetricWarning: Precision is ill-defined and being set to 0.0 in labels with no predicted samples. Use `zero_division` parameter to control this behavior.\n",
      "  _warn_prf(average, modifier, f\"{metric.capitalize()} is\", result.shape[0])\n",
      "D:\\mle_proj\\authorship_id\\.venv\\Lib\\site-packages\\sklearn\\metrics\\_classification.py:1731: UndefinedMetricWarning: Precision is ill-defined and being set to 0.0 in labels with no predicted samples. Use `zero_division` parameter to control this behavior.\n",
      "  _warn_prf(average, modifier, f\"{metric.capitalize()} is\", result.shape[0])\n"
     ]
    },
    {
     "name": "stdout",
     "output_type": "stream",
     "text": [
      "              precision    recall  f1-score   support\n",
      "\n",
      "           0       0.33      1.00      0.50         1\n",
      "           1       1.00      1.00      1.00         1\n",
      "           2       1.00      1.00      1.00         1\n",
      "           3       1.00      1.00      1.00         1\n",
      "           4       0.00      0.00      0.00         1\n",
      "           5       1.00      1.00      1.00         1\n",
      "           6       1.00      1.00      1.00         1\n",
      "           7       0.00      0.00      0.00         1\n",
      "\n",
      "    accuracy                           0.75         8\n",
      "   macro avg       0.67      0.75      0.69         8\n",
      "weighted avg       0.67      0.75      0.69         8\n",
      "\n"
     ]
    },
    {
     "data": {
      "image/png": "[encoded data removed]",
      "text/plain": [
       "<Figure size 640x480 with 2 Axes>"
      ]
     },
     "metadata": {},
     "output_type": "display_data"
    }
   ],
   "source": [
    "for model_name in models:\n",
    "    print(classification_report(y_test, all_preds[model_name]))\n",
    "    cm = confusion_matrix(y_test, all_preds[model_name])\n",
    "    sns.heatmap(cm, annot=True, fmt=\"d\")\n",
    "    plt.title(f\"Confusion Matrix: {model_name}\")\n",
    "    plt.xlabel(\"Predicted\")\n",
    "    plt.ylabel(\"True\")\n",
    "    plt.show()"
   ]
  },
  {
   "cell_type": "code",
   "execution_count": 10,
   "id": "40161a55-c633-482e-9715-61e09c632c18",
   "metadata": {},
   "outputs": [
    {
     "data": {
      "text/html": [
       "<div>\n",
       "<style scoped>\n",
       "    .dataframe tbody tr th:only-of-type {\n",
       "        vertical-align: middle;\n",
       "    }\n",
       "\n",
       "    .dataframe tbody tr th {\n",
       "        vertical-align: top;\n",
       "    }\n",
       "\n",
       "    .dataframe thead th {\n",
       "        text-align: right;\n",
       "    }\n",
       "</style>\n",
       "<table border=\"1\" class=\"dataframe\">\n",
       "  <thead>\n",
       "    <tr style=\"text-align: right;\">\n",
       "      <th></th>\n",
       "      <th>Model</th>\n",
       "      <th>Accuracy</th>\n",
       "      <th>n_gram</th>\n",
       "      <th>min_df</th>\n",
       "    </tr>\n",
       "  </thead>\n",
       "  <tbody>\n",
       "    <tr>\n",
       "      <th>0</th>\n",
       "      <td>RF</td>\n",
       "      <td>100.0</td>\n",
       "      <td>(1, 1)</td>\n",
       "      <td>1</td>\n",
       "    </tr>\n",
       "    <tr>\n",
       "      <th>6</th>\n",
       "      <td>RF_Count</td>\n",
       "      <td>87.5</td>\n",
       "      <td>(1, 1)</td>\n",
       "      <td>1</td>\n",
       "    </tr>\n",
       "  </tbody>\n",
       "</table>\n",
       "</div>"
      ],
      "text/plain": [
       "      Model Accuracy  n_gram min_df\n",
       "0        RF    100.0  (1, 1)      1\n",
       "6  RF_Count     87.5  (1, 1)      1"
      ]
     },
     "metadata": {},
     "output_type": "display_data"
    }
   ],
   "source": [
    "display(results_df[results_df[\"Model\"].isin((\"RF\", \"RF_Count\"))])"
   ]
  }
 ],
 "metadata": {
  "kernelspec": {
   "display_name": "Python 3 (ipykernel)",
   "language": "python",
   "name": "python3"
  },
  "language_info": {
   "codemirror_mode": {
    "name": "ipython",
    "version": 3
   },
   "file_extension": ".py",
   "mimetype": "text/x-python",
   "name": "python",
   "nbconvert_exporter": "python",
   "pygments_lexer": "ipython3",
   "version": "3.13.0"
  }
 },
 "nbformat": 4,
 "nbformat_minor": 5
}
